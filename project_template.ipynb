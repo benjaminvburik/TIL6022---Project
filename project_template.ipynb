{
 "cells": [
  {
   "cell_type": "markdown",
   "metadata": {},
   "source": [
    "# Project Group - 23\n",
    "\n",
    "Members and student numbers: \n",
    "\n",
    "Benjamin van Burik - 4992784\n",
    "\n",
    "Féron van Hoeven - 4890493\n",
    "\n",
    "Harald Rensink - 5839767\n",
    "\n",
    "Willem van Rootselaar - 4686594\n",
    "\n",
    "Mike Schagen - 4482344"
   ]
  },
  {
   "cell_type": "markdown",
   "metadata": {},
   "source": [
    "# Research Objective\n",
    "\n",
    "*Requires data modeling and quantitative research in Transport, Infrastructure & Logistics*"
   ]
  },
  {
   "cell_type": "markdown",
   "metadata": {},
   "source": [
    "How is the congestion around Delft affected by the impact of inflation on gas pric and COVID-19 infections?"
   ]
  },
  {
   "cell_type": "markdown",
   "metadata": {},
   "source": [
    "# Contribution Statement\n",
    "\n",
    "*Be specific. Some of the tasks can be coding (expect everyone to do this), background research, conceptualisation, visualisation, data analysis, data modelling*"
   ]
  },
  {
   "cell_type": "markdown",
   "metadata": {},
   "source": [
    "**Author 1**:\n",
    "Benjamin van Burik: coding, researching data and analysing data for the report.\n",
    "\n",
    "**Author 2**:\n",
    "Féron van Hoeven\n",
    "\n",
    "**Author 3**:\n",
    "Harald Rensink\n",
    "\n",
    "**Author 4**:\n",
    "Willem van Rootselaar\n",
    "\n",
    "**Author 5**:\n",
    "Mike Schagen"
   ]
  },
  {
   "cell_type": "markdown",
   "metadata": {},
   "source": [
    "# Data Used"
   ]
  },
  {
   "cell_type": "markdown",
   "metadata": {},
   "source": [
    "**Rijkswaterstaat**: Filedata 01-03-2020 to 30-09-2022 https://downloads.rijkswaterstaatdata.nl/filedata/\n",
    "\n",
    "**CBS**: Pompprijzen\n",
    "\n",
    "**CBS**: COVID-19 Besmettingen"
   ]
  },
  {
   "cell_type": "markdown",
   "metadata": {},
   "source": [
    "# Data Pipeline"
   ]
  },
  {
   "cell_type": "markdown",
   "metadata": {},
   "source": [
    "**GitHub repository link**:https://github.com/benjaminvburik/TIL6022---Project.git"
   ]
  }
 ],
 "metadata": {
  "kernelspec": {
   "display_name": "Python 3 (ipykernel)",
   "language": "python",
   "name": "python3"
  },
  "language_info": {
   "codemirror_mode": {
    "name": "ipython",
    "version": 3
   },
   "file_extension": ".py",
   "mimetype": "text/x-python",
   "name": "python",
   "nbconvert_exporter": "python",
   "pygments_lexer": "ipython3",
   "version": "3.7.13"
  },
  "vscode": {
   "interpreter": {
    "hash": "31f2aee4e71d21fbe5cf8b01ff0e069b9275f58929596ceb00d14d90e3e16cd6"
   }
  }
 },
 "nbformat": 4,
 "nbformat_minor": 2
}
